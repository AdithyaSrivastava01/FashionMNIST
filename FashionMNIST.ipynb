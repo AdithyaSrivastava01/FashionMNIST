{
  "nbformat": 4,
  "nbformat_minor": 0,
  "metadata": {
    "colab": {
      "provenance": [],
      "collapsed_sections": [],
      "authorship_tag": "ABX9TyNbtHUaSl91v2NNibnWdQCH",
      "include_colab_link": true
    },
    "kernelspec": {
      "name": "python3",
      "display_name": "Python 3"
    },
    "language_info": {
      "name": "python"
    },
    "accelerator": "GPU"
  },
  "cells": [
    {
      "cell_type": "markdown",
      "metadata": {
        "id": "view-in-github",
        "colab_type": "text"
      },
      "source": [
        "<a href=\"https://colab.research.google.com/github/AdithyaSrivastava01/FashionMNIST/blob/main/FashionMNIST.ipynb\" target=\"_parent\"><img src=\"https://colab.research.google.com/assets/colab-badge.svg\" alt=\"Open In Colab\"/></a>"
      ]
    },
    {
      "cell_type": "code",
      "execution_count": null,
      "metadata": {
        "id": "J8vtiHr3fmwA"
      },
      "outputs": [],
      "source": [
        "import cv2 as cv\n",
        "import tensorflow as tf\n",
        "import matplotlib.pyplot as plt\n",
        "import numpy as np\n",
        "# from tensorflow.keras.applications.resnet50 import ResNet50, preprocess_input"
      ]
    },
    {
      "cell_type": "markdown",
      "source": [
        "# New Section"
      ],
      "metadata": {
        "id": "R2vUv_VzktW2"
      }
    },
    {
      "cell_type": "code",
      "source": [
        "(x_train,y_train),(x_test,y_test)=tf.keras.datasets.fashion_mnist.load_data()"
      ],
      "metadata": {
        "id": "nlbj3RlygGmM"
      },
      "execution_count": null,
      "outputs": []
    },
    {
      "cell_type": "code",
      "source": [
        "# x_train=preprocess_input(x_train)\n",
        "# x_test=preprocess_input(x_test)\n",
        "def preprocessing(img):\n",
        "  img=img/255\n",
        "  return img"
      ],
      "metadata": {
        "id": "xylv3xhThVEE"
      },
      "execution_count": null,
      "outputs": []
    },
    {
      "cell_type": "code",
      "source": [
        "x_train=np.array(list(map(preprocessing,x_train)))\n",
        "x_test=np.array(list(map(preprocessing,x_test)))"
      ],
      "metadata": {
        "id": "dT9mHBQd-J-i"
      },
      "execution_count": null,
      "outputs": []
    },
    {
      "cell_type": "code",
      "source": [
        "x_train.shape"
      ],
      "metadata": {
        "colab": {
          "base_uri": "https://localhost:8080/"
        },
        "id": "bJLpwi4DBgA7",
        "outputId": "4c1871ae-c7c3-4fb7-f047-5f18830958a8"
      },
      "execution_count": null,
      "outputs": [
        {
          "output_type": "execute_result",
          "data": {
            "text/plain": [
              "(60000, 28, 28)"
            ]
          },
          "metadata": {},
          "execution_count": 29
        }
      ]
    },
    {
      "cell_type": "code",
      "source": [
        "from tensorflow.keras.utils import to_categorical"
      ],
      "metadata": {
        "id": "UBgbWFfEj42F"
      },
      "execution_count": null,
      "outputs": []
    },
    {
      "cell_type": "code",
      "source": [
        "y_test=to_categorical(y_test)\n",
        "y_train=to_categorical(y_train)"
      ],
      "metadata": {
        "id": "1VjWn5Xgjn9e"
      },
      "execution_count": null,
      "outputs": []
    },
    {
      "cell_type": "code",
      "source": [
        "x_train = x_train.reshape((x_train.shape[0], 28, 28, 1))\n",
        "x_test = x_test.reshape((x_test.shape[0], 28, 28, 1))"
      ],
      "metadata": {
        "id": "C30hxauc70nP"
      },
      "execution_count": null,
      "outputs": []
    },
    {
      "cell_type": "code",
      "source": [
        "type(x_train)"
      ],
      "metadata": {
        "colab": {
          "base_uri": "https://localhost:8080/"
        },
        "id": "fWSfXrbbj7oi",
        "outputId": "3863e2aa-003f-4f99-95b5-36c60b9f29c4"
      },
      "execution_count": null,
      "outputs": [
        {
          "output_type": "execute_result",
          "data": {
            "text/plain": [
              "numpy.ndarray"
            ]
          },
          "metadata": {},
          "execution_count": 33
        }
      ]
    },
    {
      "cell_type": "code",
      "source": [
        "x_train.shape\n",
        "x_test.shape"
      ],
      "metadata": {
        "colab": {
          "base_uri": "https://localhost:8080/"
        },
        "id": "bO7IqwbnkfQP",
        "outputId": "cad237d5-1be1-4bb4-e9ed-dc7770cdfd29"
      },
      "execution_count": null,
      "outputs": [
        {
          "output_type": "execute_result",
          "data": {
            "text/plain": [
              "(10000, 28, 28, 1)"
            ]
          },
          "metadata": {},
          "execution_count": 34
        }
      ]
    },
    {
      "cell_type": "code",
      "source": [
        "#Architecture"
      ],
      "metadata": {
        "id": "SRzst_tPkoos"
      },
      "execution_count": null,
      "outputs": []
    },
    {
      "cell_type": "code",
      "source": [
        "import warnings\n",
        "warnings.filterwarnings(\"ignore\")#this ignores all the warnings"
      ],
      "metadata": {
        "id": "pVzHBghY6vZt"
      },
      "execution_count": null,
      "outputs": []
    },
    {
      "cell_type": "code",
      "source": [
        "from tensorflow.keras.models import Sequential\n",
        "from tensorflow.keras.layers import Dense,Flatten,Conv2D,MaxPooling2D,Dropout,BatchNormalization\n",
        "from tensorflow.keras.optimizers import Adam\n"
      ],
      "metadata": {
        "id": "ooMdB_9Dkr4X"
      },
      "execution_count": null,
      "outputs": []
    },
    {
      "cell_type": "code",
      "source": [
        "def define_model():\n",
        "  model=Sequential()\n",
        "  model.add(Conv2D(64,(3,3),padding=\"same\",activation=\"relu\",input_shape=(28,28,1)))\n",
        "  model.add(MaxPooling2D((2,2)))\n",
        "  model.add(Conv2D(128,(3,3),padding=\"same\",activation=\"relu\"))\n",
        "  model.add(MaxPooling2D((2,2)))\n",
        "  model.add(BatchNormalization())\n",
        "  model.add(Conv2D(256,(3,3),padding=\"same\",activation=\"relu\"))\n",
        "  model.add(MaxPooling2D((2,2)))\n",
        "  model.add(Conv2D(512,(3,3),padding=\"same\",activation=\"relu\"))\n",
        "  model.add(MaxPooling2D((2,2)))\n",
        "  model.add(BatchNormalization())\n",
        "  model.add(Conv2D(512,(3,3),padding=\"same\",activation=\"relu\"))\n",
        "  # model.add(MaxPooling2D((2,2)))\n",
        "  model.add(Dropout(0.25))\n",
        "  model.add(Flatten())\n",
        "  model.add(Dense(256,activation=\"relu\"))\n",
        "  model.add(Dropout(0.25))\n",
        "  model.add(Dense(128,activation=\"relu\"))\n",
        "  model.add(Dense(10,activation=\"softmax\"))\n",
        "  model.compile(Adam(lr=0.0033),loss=\"categorical_crossentropy\",metrics=[\"accuracy\"])\n",
        "  return model\n"
      ],
      "metadata": {
        "id": "tNytEtVXkvUF"
      },
      "execution_count": null,
      "outputs": []
    },
    {
      "cell_type": "code",
      "source": [
        "from sklearn.model_selection import KFold\n"
      ],
      "metadata": {
        "id": "bQRJ-05oAivs"
      },
      "execution_count": null,
      "outputs": []
    },
    {
      "cell_type": "code",
      "source": [
        "model=define_model()\n",
        "model.fit(x_train, y_train, epochs=10)"
      ],
      "metadata": {
        "colab": {
          "base_uri": "https://localhost:8080/"
        },
        "id": "2MXEELQx8r_7",
        "outputId": "bfd726e4-adc9-4bb2-d89a-e96033db1925"
      },
      "execution_count": null,
      "outputs": [
        {
          "output_type": "stream",
          "name": "stdout",
          "text": [
            "Epoch 1/10\n",
            "1875/1875 [==============================] - 1013s 540ms/step - loss: 0.5204 - accuracy: 0.8181\n",
            "Epoch 2/10\n",
            "1875/1875 [==============================] - 1001s 534ms/step - loss: 0.3426 - accuracy: 0.8834\n",
            "Epoch 3/10\n",
            "1875/1875 [==============================] - 999s 533ms/step - loss: 0.2997 - accuracy: 0.8987\n",
            "Epoch 4/10\n",
            "1875/1875 [==============================] - 997s 532ms/step - loss: 0.2705 - accuracy: 0.9082\n",
            "Epoch 5/10\n",
            "1875/1875 [==============================] - 928s 495ms/step - loss: 0.2558 - accuracy: 0.9132\n",
            "Epoch 6/10\n",
            "1875/1875 [==============================] - 987s 526ms/step - loss: 0.2598 - accuracy: 0.9114\n",
            "Epoch 7/10\n",
            "1875/1875 [==============================] - 1003s 535ms/step - loss: 0.2357 - accuracy: 0.9210\n",
            "Epoch 8/10\n",
            "1875/1875 [==============================] - 931s 497ms/step - loss: 0.2177 - accuracy: 0.9259\n",
            "Epoch 9/10\n",
            "1875/1875 [==============================] - 918s 490ms/step - loss: 0.2092 - accuracy: 0.9288\n",
            "Epoch 10/10\n",
            "1875/1875 [==============================] - 917s 489ms/step - loss: 0.2049 - accuracy: 0.9299\n"
          ]
        },
        {
          "output_type": "execute_result",
          "data": {
            "text/plain": [
              "<keras.callbacks.History at 0x7f1d00ef9b90>"
            ]
          },
          "metadata": {},
          "execution_count": 43
        }
      ]
    },
    {
      "cell_type": "code",
      "source": [
        "model.summary()"
      ],
      "metadata": {
        "colab": {
          "base_uri": "https://localhost:8080/"
        },
        "id": "OKd348UKlnYH",
        "outputId": "4c4242b9-1f5e-446e-900b-ba30cd47ba3d"
      },
      "execution_count": null,
      "outputs": [
        {
          "output_type": "stream",
          "name": "stdout",
          "text": [
            "Model: \"sequential_6\"\n",
            "_________________________________________________________________\n",
            " Layer (type)                Output Shape              Param #   \n",
            "=================================================================\n",
            " conv2d_30 (Conv2D)          (None, 28, 28, 64)        640       \n",
            "                                                                 \n",
            " max_pooling2d_24 (MaxPoolin  (None, 14, 14, 64)       0         \n",
            " g2D)                                                            \n",
            "                                                                 \n",
            " conv2d_31 (Conv2D)          (None, 14, 14, 128)       73856     \n",
            "                                                                 \n",
            " max_pooling2d_25 (MaxPoolin  (None, 7, 7, 128)        0         \n",
            " g2D)                                                            \n",
            "                                                                 \n",
            " batch_normalization_12 (Bat  (None, 7, 7, 128)        512       \n",
            " chNormalization)                                                \n",
            "                                                                 \n",
            " conv2d_32 (Conv2D)          (None, 7, 7, 256)         295168    \n",
            "                                                                 \n",
            " max_pooling2d_26 (MaxPoolin  (None, 3, 3, 256)        0         \n",
            " g2D)                                                            \n",
            "                                                                 \n",
            " conv2d_33 (Conv2D)          (None, 3, 3, 512)         1180160   \n",
            "                                                                 \n",
            " max_pooling2d_27 (MaxPoolin  (None, 1, 1, 512)        0         \n",
            " g2D)                                                            \n",
            "                                                                 \n",
            " batch_normalization_13 (Bat  (None, 1, 1, 512)        2048      \n",
            " chNormalization)                                                \n",
            "                                                                 \n",
            " conv2d_34 (Conv2D)          (None, 1, 1, 512)         2359808   \n",
            "                                                                 \n",
            " dropout_12 (Dropout)        (None, 1, 1, 512)         0         \n",
            "                                                                 \n",
            " flatten_6 (Flatten)         (None, 512)               0         \n",
            "                                                                 \n",
            " dense_18 (Dense)            (None, 256)               131328    \n",
            "                                                                 \n",
            " dropout_13 (Dropout)        (None, 256)               0         \n",
            "                                                                 \n",
            " dense_19 (Dense)            (None, 128)               32896     \n",
            "                                                                 \n",
            " dense_20 (Dense)            (None, 10)                1290      \n",
            "                                                                 \n",
            "=================================================================\n",
            "Total params: 4,077,706\n",
            "Trainable params: 4,076,426\n",
            "Non-trainable params: 1,280\n",
            "_________________________________________________________________\n"
          ]
        }
      ]
    },
    {
      "cell_type": "code",
      "source": [
        "model.save_weights(\"weights.h5\")"
      ],
      "metadata": {
        "id": "b5OVVYlwiUVd"
      },
      "execution_count": null,
      "outputs": []
    },
    {
      "cell_type": "code",
      "source": [
        "model_in_json=model.to_json()\n",
        "file=open(\"Users\\Adithya Srivastava\\Documents\\DL\\dataset.json\",\"w\")\n",
        "file.write(model_in_json)\n",
        "file.close()"
      ],
      "metadata": {
        "id": "mWGCWMKXjLzS"
      },
      "execution_count": null,
      "outputs": []
    },
    {
      "cell_type": "code",
      "source": [
        "from tensorflow.keras.models import model_from_json"
      ],
      "metadata": {
        "id": "zH1wJfjujjrB"
      },
      "execution_count": null,
      "outputs": []
    },
    {
      "cell_type": "code",
      "source": [
        "file=open(\"Users\\Adithya Srivastava\\Documents\\DL\\dataset.json\",\"r\")\n",
        "loaded_data=file.read()\n",
        "loaded_model=model_from_json(loaded_data)\n",
        "loaded_model.load_weights(\"Users\\Adithya Srivastava\\Documents\\DL\\weights_best.h5\")"
      ],
      "metadata": {
        "id": "NOOo15UXjodE"
      },
      "execution_count": null,
      "outputs": []
    },
    {
      "cell_type": "code",
      "source": [
        "loaded_model.summary()"
      ],
      "metadata": {
        "colab": {
          "base_uri": "https://localhost:8080/"
        },
        "id": "8i0O8AmPlZHJ",
        "outputId": "601a6766-9350-4ee8-9981-f0c312e2b6d0"
      },
      "execution_count": null,
      "outputs": [
        {
          "output_type": "stream",
          "name": "stdout",
          "text": [
            "Model: \"sequential_6\"\n",
            "_________________________________________________________________\n",
            " Layer (type)                Output Shape              Param #   \n",
            "=================================================================\n",
            " conv2d_30 (Conv2D)          (None, 28, 28, 64)        640       \n",
            "                                                                 \n",
            " max_pooling2d_24 (MaxPoolin  (None, 14, 14, 64)       0         \n",
            " g2D)                                                            \n",
            "                                                                 \n",
            " conv2d_31 (Conv2D)          (None, 14, 14, 128)       73856     \n",
            "                                                                 \n",
            " max_pooling2d_25 (MaxPoolin  (None, 7, 7, 128)        0         \n",
            " g2D)                                                            \n",
            "                                                                 \n",
            " batch_normalization_12 (Bat  (None, 7, 7, 128)        512       \n",
            " chNormalization)                                                \n",
            "                                                                 \n",
            " conv2d_32 (Conv2D)          (None, 7, 7, 256)         295168    \n",
            "                                                                 \n",
            " max_pooling2d_26 (MaxPoolin  (None, 3, 3, 256)        0         \n",
            " g2D)                                                            \n",
            "                                                                 \n",
            " conv2d_33 (Conv2D)          (None, 3, 3, 512)         1180160   \n",
            "                                                                 \n",
            " max_pooling2d_27 (MaxPoolin  (None, 1, 1, 512)        0         \n",
            " g2D)                                                            \n",
            "                                                                 \n",
            " batch_normalization_13 (Bat  (None, 1, 1, 512)        2048      \n",
            " chNormalization)                                                \n",
            "                                                                 \n",
            " conv2d_34 (Conv2D)          (None, 1, 1, 512)         2359808   \n",
            "                                                                 \n",
            " dropout_12 (Dropout)        (None, 1, 1, 512)         0         \n",
            "                                                                 \n",
            " flatten_6 (Flatten)         (None, 512)               0         \n",
            "                                                                 \n",
            " dense_18 (Dense)            (None, 256)               131328    \n",
            "                                                                 \n",
            " dropout_13 (Dropout)        (None, 256)               0         \n",
            "                                                                 \n",
            " dense_19 (Dense)            (None, 128)               32896     \n",
            "                                                                 \n",
            " dense_20 (Dense)            (None, 10)                1290      \n",
            "                                                                 \n",
            "=================================================================\n",
            "Total params: 4,077,706\n",
            "Trainable params: 4,076,426\n",
            "Non-trainable params: 1,280\n",
            "_________________________________________________________________\n"
          ]
        }
      ]
    },
    {
      "cell_type": "code",
      "source": [
        "pred=loaded_model.predict(x_test)"
      ],
      "metadata": {
        "id": "ERAgVR_gj4LL"
      },
      "execution_count": null,
      "outputs": []
    },
    {
      "cell_type": "code",
      "source": [
        "print(pred)"
      ],
      "metadata": {
        "colab": {
          "base_uri": "https://localhost:8080/"
        },
        "id": "9utn6adHl1b2",
        "outputId": "5206148f-cd6a-4d9c-fdfa-a4776861986d"
      },
      "execution_count": null,
      "outputs": [
        {
          "output_type": "stream",
          "name": "stdout",
          "text": [
            "[[2.9965414e-30 9.9075155e-23 5.9178197e-34 ... 3.7037062e-05\n",
            "  6.0023036e-27 9.9996269e-01]\n",
            " [1.3952383e-07 4.3177418e-24 9.9998760e-01 ... 5.3049076e-36\n",
            "  8.4899972e-22 8.2353788e-30]\n",
            " [0.0000000e+00 1.0000000e+00 0.0000000e+00 ... 0.0000000e+00\n",
            "  0.0000000e+00 0.0000000e+00]\n",
            " ...\n",
            " [2.6758488e-18 1.4611493e-29 3.9127066e-26 ... 1.8770035e-23\n",
            "  1.0000000e+00 2.6042895e-32]\n",
            " [3.3816334e-34 1.0000000e+00 0.0000000e+00 ... 0.0000000e+00\n",
            "  0.0000000e+00 0.0000000e+00]\n",
            " [1.1049478e-21 1.4338560e-16 2.8184828e-30 ... 4.7877635e-05\n",
            "  3.1485209e-13 4.6333753e-05]]\n"
          ]
        }
      ]
    },
    {
      "cell_type": "code",
      "source": [
        "pred.shape"
      ],
      "metadata": {
        "colab": {
          "base_uri": "https://localhost:8080/"
        },
        "id": "hxrTubwxlUKn",
        "outputId": "2124d834-26ab-490f-de07-ddfacd627cc0"
      },
      "execution_count": null,
      "outputs": [
        {
          "output_type": "execute_result",
          "data": {
            "text/plain": [
              "(10000, 10)"
            ]
          },
          "metadata": {},
          "execution_count": 77
        }
      ]
    },
    {
      "cell_type": "code",
      "source": [
        "pred=np.argmax(pred,axis=1)\n"
      ],
      "metadata": {
        "id": "bpkiG7H4kMpr"
      },
      "execution_count": null,
      "outputs": []
    },
    {
      "cell_type": "code",
      "source": [
        "pred.shape"
      ],
      "metadata": {
        "colab": {
          "base_uri": "https://localhost:8080/"
        },
        "id": "8bZ2NfC-lKFu",
        "outputId": "d82ab9e9-8c1d-449c-82c1-bb830ddfc921"
      },
      "execution_count": null,
      "outputs": [
        {
          "output_type": "execute_result",
          "data": {
            "text/plain": [
              "(10000,)"
            ]
          },
          "metadata": {},
          "execution_count": 79
        }
      ]
    },
    {
      "cell_type": "code",
      "source": [
        "y_train.shape"
      ],
      "metadata": {
        "colab": {
          "base_uri": "https://localhost:8080/"
        },
        "id": "szYb7hVSm-Vl",
        "outputId": "a82398f0-9f4a-4a31-abbe-5b5952263a1e"
      },
      "execution_count": null,
      "outputs": [
        {
          "output_type": "execute_result",
          "data": {
            "text/plain": [
              "(60000, 10)"
            ]
          },
          "metadata": {},
          "execution_count": 82
        }
      ]
    },
    {
      "cell_type": "code",
      "source": [
        "y_test=np.argmax(y_test,axis=1)"
      ],
      "metadata": {
        "id": "wnpmKZf2nHYO"
      },
      "execution_count": null,
      "outputs": []
    },
    {
      "cell_type": "code",
      "source": [
        "from sklearn.metrics import accuracy_score\n",
        "accuracy=accuracy_score(y_test,pred)"
      ],
      "metadata": {
        "id": "RDOlZLRBkpbg"
      },
      "execution_count": null,
      "outputs": []
    },
    {
      "cell_type": "code",
      "source": [
        "print(\"Testing accuracy->\",str(round(accuracy*100,2))+\"%\")"
      ],
      "metadata": {
        "colab": {
          "base_uri": "https://localhost:8080/"
        },
        "id": "3u6Wei_BnTHF",
        "outputId": "a3597c99-8876-453d-bf07-dd3ccd31b9c3"
      },
      "execution_count": null,
      "outputs": [
        {
          "output_type": "stream",
          "name": "stdout",
          "text": [
            "Testing accuracy-> 90.85%\n"
          ]
        }
      ]
    }
  ]
}